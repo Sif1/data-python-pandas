{
 "cells": [
  {
   "cell_type": "code",
   "execution_count": 45,
   "metadata": {},
   "outputs": [],
   "source": [
    "import pandas as pd\n",
    "import xmltodict\n",
    "import matplotlib.pyplot as plt\n",
    "plt.rcParams.update({'font.size': 20, 'figure.figsize': (10, 8)}) # set font and plot size to be larger"
   ]
  },
  {
   "cell_type": "code",
   "execution_count": 3,
   "metadata": {},
   "outputs": [],
   "source": [
    "input_path = './export.xml'\n",
    "with open(input_path, 'r') as xml_file:\n",
    "    input_data = xmltodict.parse(xml_file.read())"
   ]
  },
  {
   "cell_type": "code",
   "execution_count": 4,
   "metadata": {},
   "outputs": [],
   "source": [
    "records_list = input_data['HealthData']['Record']"
   ]
  },
  {
   "cell_type": "code",
   "execution_count": 5,
   "metadata": {},
   "outputs": [],
   "source": [
    "df = pd.DataFrame(records_list)"
   ]
  },
  {
   "cell_type": "code",
   "execution_count": 11,
   "metadata": {},
   "outputs": [
    {
     "data": {
      "text/plain": [
       "0               Gustavo’s iPhone\n",
       "1               Gustavo’s iPhone\n",
       "2               Gustavo’s iPhone\n",
       "3               Gustavo’s iPhone\n",
       "4               Gustavo’s iPhone\n",
       "                   ...          \n",
       "811113    Apple Watch de Gustavo\n",
       "811114    Apple Watch de Gustavo\n",
       "811115    Apple Watch de Gustavo\n",
       "811116    Apple Watch de Gustavo\n",
       "811117    Apple Watch de Gustavo\n",
       "Name: @sourceName, Length: 811118, dtype: object"
      ]
     },
     "execution_count": 11,
     "metadata": {},
     "output_type": "execute_result"
    }
   ],
   "source": [
    "df['@sourceName']"
   ]
  },
  {
   "cell_type": "code",
   "execution_count": 14,
   "metadata": {},
   "outputs": [],
   "source": [
    "gustavo_iphone = df[df['@sourceName'] == 'Gustavo’s iPhone']"
   ]
  },
  {
   "cell_type": "code",
   "execution_count": 15,
   "metadata": {},
   "outputs": [
    {
     "data": {
      "text/html": [
       "<div>\n",
       "<style scoped>\n",
       "    .dataframe tbody tr th:only-of-type {\n",
       "        vertical-align: middle;\n",
       "    }\n",
       "\n",
       "    .dataframe tbody tr th {\n",
       "        vertical-align: top;\n",
       "    }\n",
       "\n",
       "    .dataframe thead th {\n",
       "        text-align: right;\n",
       "    }\n",
       "</style>\n",
       "<table border=\"1\" class=\"dataframe\">\n",
       "  <thead>\n",
       "    <tr style=\"text-align: right;\">\n",
       "      <th></th>\n",
       "      <th>@type</th>\n",
       "      <th>@sourceName</th>\n",
       "      <th>@sourceVersion</th>\n",
       "      <th>@unit</th>\n",
       "      <th>@creationDate</th>\n",
       "      <th>@startDate</th>\n",
       "      <th>@endDate</th>\n",
       "      <th>@value</th>\n",
       "      <th>@device</th>\n",
       "      <th>MetadataEntry</th>\n",
       "      <th>HeartRateVariabilityMetadataList</th>\n",
       "    </tr>\n",
       "  </thead>\n",
       "  <tbody>\n",
       "    <tr>\n",
       "      <td>0</td>\n",
       "      <td>HKQuantityTypeIdentifierHeight</td>\n",
       "      <td>Gustavo’s iPhone</td>\n",
       "      <td>12.1.4</td>\n",
       "      <td>cm</td>\n",
       "      <td>2019-02-28 09:02:37 -0300</td>\n",
       "      <td>2019-02-28 09:02:37 -0300</td>\n",
       "      <td>2019-02-28 09:02:37 -0300</td>\n",
       "      <td>171</td>\n",
       "      <td>NaN</td>\n",
       "      <td>NaN</td>\n",
       "      <td>NaN</td>\n",
       "    </tr>\n",
       "    <tr>\n",
       "      <td>1</td>\n",
       "      <td>HKQuantityTypeIdentifierHeight</td>\n",
       "      <td>Gustavo’s iPhone</td>\n",
       "      <td>12.1.4</td>\n",
       "      <td>cm</td>\n",
       "      <td>2019-03-26 15:44:54 -0300</td>\n",
       "      <td>2019-03-26 15:44:54 -0300</td>\n",
       "      <td>2019-03-26 15:44:54 -0300</td>\n",
       "      <td>171</td>\n",
       "      <td>NaN</td>\n",
       "      <td>NaN</td>\n",
       "      <td>NaN</td>\n",
       "    </tr>\n",
       "    <tr>\n",
       "      <td>2</td>\n",
       "      <td>HKQuantityTypeIdentifierHeight</td>\n",
       "      <td>Gustavo’s iPhone</td>\n",
       "      <td>12.1.4</td>\n",
       "      <td>cm</td>\n",
       "      <td>2019-04-01 17:54:28 -0300</td>\n",
       "      <td>2019-04-01 17:54:28 -0300</td>\n",
       "      <td>2019-04-01 17:54:28 -0300</td>\n",
       "      <td>171</td>\n",
       "      <td>NaN</td>\n",
       "      <td>NaN</td>\n",
       "      <td>NaN</td>\n",
       "    </tr>\n",
       "    <tr>\n",
       "      <td>3</td>\n",
       "      <td>HKQuantityTypeIdentifierHeight</td>\n",
       "      <td>Gustavo’s iPhone</td>\n",
       "      <td>12.1.4</td>\n",
       "      <td>cm</td>\n",
       "      <td>2019-04-03 09:54:54 -0300</td>\n",
       "      <td>2019-04-03 09:54:54 -0300</td>\n",
       "      <td>2019-04-03 09:54:54 -0300</td>\n",
       "      <td>171</td>\n",
       "      <td>NaN</td>\n",
       "      <td>NaN</td>\n",
       "      <td>NaN</td>\n",
       "    </tr>\n",
       "    <tr>\n",
       "      <td>4</td>\n",
       "      <td>HKQuantityTypeIdentifierHeight</td>\n",
       "      <td>Gustavo’s iPhone</td>\n",
       "      <td>12.1.4</td>\n",
       "      <td>cm</td>\n",
       "      <td>2019-04-13 22:49:13 -0300</td>\n",
       "      <td>2019-04-13 22:49:13 -0300</td>\n",
       "      <td>2019-04-13 22:49:13 -0300</td>\n",
       "      <td>171</td>\n",
       "      <td>NaN</td>\n",
       "      <td>NaN</td>\n",
       "      <td>NaN</td>\n",
       "    </tr>\n",
       "    <tr>\n",
       "      <td>...</td>\n",
       "      <td>...</td>\n",
       "      <td>...</td>\n",
       "      <td>...</td>\n",
       "      <td>...</td>\n",
       "      <td>...</td>\n",
       "      <td>...</td>\n",
       "      <td>...</td>\n",
       "      <td>...</td>\n",
       "      <td>...</td>\n",
       "      <td>...</td>\n",
       "      <td>...</td>\n",
       "    </tr>\n",
       "    <tr>\n",
       "      <td>797694</td>\n",
       "      <td>HKQuantityTypeIdentifierFlightsClimbed</td>\n",
       "      <td>Gustavo’s iPhone</td>\n",
       "      <td>12.4.1</td>\n",
       "      <td>count</td>\n",
       "      <td>2019-10-28 16:48:12 -0300</td>\n",
       "      <td>2019-10-28 16:34:41 -0300</td>\n",
       "      <td>2019-10-28 16:34:43 -0300</td>\n",
       "      <td>1</td>\n",
       "      <td>&lt;&lt;HKDevice: 0x2826eab70&gt;, name:iPhone, manufac...</td>\n",
       "      <td>NaN</td>\n",
       "      <td>NaN</td>\n",
       "    </tr>\n",
       "    <tr>\n",
       "      <td>797695</td>\n",
       "      <td>HKQuantityTypeIdentifierFlightsClimbed</td>\n",
       "      <td>Gustavo’s iPhone</td>\n",
       "      <td>12.4.1</td>\n",
       "      <td>count</td>\n",
       "      <td>2019-10-28 17:01:48 -0300</td>\n",
       "      <td>2019-10-28 16:50:50 -0300</td>\n",
       "      <td>2019-10-28 16:50:53 -0300</td>\n",
       "      <td>1</td>\n",
       "      <td>&lt;&lt;HKDevice: 0x2826eac10&gt;, name:iPhone, manufac...</td>\n",
       "      <td>NaN</td>\n",
       "      <td>NaN</td>\n",
       "    </tr>\n",
       "    <tr>\n",
       "      <td>797697</td>\n",
       "      <td>HKQuantityTypeIdentifierFlightsClimbed</td>\n",
       "      <td>Gustavo’s iPhone</td>\n",
       "      <td>12.4.1</td>\n",
       "      <td>count</td>\n",
       "      <td>2019-10-28 18:16:24 -0300</td>\n",
       "      <td>2019-10-28 18:05:24 -0300</td>\n",
       "      <td>2019-10-28 18:05:54 -0300</td>\n",
       "      <td>4</td>\n",
       "      <td>&lt;&lt;HKDevice: 0x2826eada0&gt;, name:iPhone, manufac...</td>\n",
       "      <td>NaN</td>\n",
       "      <td>NaN</td>\n",
       "    </tr>\n",
       "    <tr>\n",
       "      <td>797698</td>\n",
       "      <td>HKQuantityTypeIdentifierFlightsClimbed</td>\n",
       "      <td>Gustavo’s iPhone</td>\n",
       "      <td>12.4.1</td>\n",
       "      <td>count</td>\n",
       "      <td>2019-10-28 19:49:47 -0300</td>\n",
       "      <td>2019-10-28 19:39:18 -0300</td>\n",
       "      <td>2019-10-28 19:39:21 -0300</td>\n",
       "      <td>1</td>\n",
       "      <td>&lt;&lt;HKDevice: 0x2826eae40&gt;, name:iPhone, manufac...</td>\n",
       "      <td>NaN</td>\n",
       "      <td>NaN</td>\n",
       "    </tr>\n",
       "    <tr>\n",
       "      <td>797700</td>\n",
       "      <td>HKQuantityTypeIdentifierFlightsClimbed</td>\n",
       "      <td>Gustavo’s iPhone</td>\n",
       "      <td>12.4.1</td>\n",
       "      <td>count</td>\n",
       "      <td>2019-10-28 20:55:57 -0300</td>\n",
       "      <td>2019-10-28 20:44:41 -0300</td>\n",
       "      <td>2019-10-28 20:44:57 -0300</td>\n",
       "      <td>2</td>\n",
       "      <td>&lt;&lt;HKDevice: 0x2826eafd0&gt;, name:iPhone, manufac...</td>\n",
       "      <td>NaN</td>\n",
       "      <td>NaN</td>\n",
       "    </tr>\n",
       "  </tbody>\n",
       "</table>\n",
       "<p>11667 rows × 11 columns</p>\n",
       "</div>"
      ],
      "text/plain": [
       "                                         @type       @sourceName  \\\n",
       "0               HKQuantityTypeIdentifierHeight  Gustavo’s iPhone   \n",
       "1               HKQuantityTypeIdentifierHeight  Gustavo’s iPhone   \n",
       "2               HKQuantityTypeIdentifierHeight  Gustavo’s iPhone   \n",
       "3               HKQuantityTypeIdentifierHeight  Gustavo’s iPhone   \n",
       "4               HKQuantityTypeIdentifierHeight  Gustavo’s iPhone   \n",
       "...                                        ...               ...   \n",
       "797694  HKQuantityTypeIdentifierFlightsClimbed  Gustavo’s iPhone   \n",
       "797695  HKQuantityTypeIdentifierFlightsClimbed  Gustavo’s iPhone   \n",
       "797697  HKQuantityTypeIdentifierFlightsClimbed  Gustavo’s iPhone   \n",
       "797698  HKQuantityTypeIdentifierFlightsClimbed  Gustavo’s iPhone   \n",
       "797700  HKQuantityTypeIdentifierFlightsClimbed  Gustavo’s iPhone   \n",
       "\n",
       "       @sourceVersion  @unit              @creationDate  \\\n",
       "0              12.1.4     cm  2019-02-28 09:02:37 -0300   \n",
       "1              12.1.4     cm  2019-03-26 15:44:54 -0300   \n",
       "2              12.1.4     cm  2019-04-01 17:54:28 -0300   \n",
       "3              12.1.4     cm  2019-04-03 09:54:54 -0300   \n",
       "4              12.1.4     cm  2019-04-13 22:49:13 -0300   \n",
       "...               ...    ...                        ...   \n",
       "797694         12.4.1  count  2019-10-28 16:48:12 -0300   \n",
       "797695         12.4.1  count  2019-10-28 17:01:48 -0300   \n",
       "797697         12.4.1  count  2019-10-28 18:16:24 -0300   \n",
       "797698         12.4.1  count  2019-10-28 19:49:47 -0300   \n",
       "797700         12.4.1  count  2019-10-28 20:55:57 -0300   \n",
       "\n",
       "                       @startDate                   @endDate @value  \\\n",
       "0       2019-02-28 09:02:37 -0300  2019-02-28 09:02:37 -0300    171   \n",
       "1       2019-03-26 15:44:54 -0300  2019-03-26 15:44:54 -0300    171   \n",
       "2       2019-04-01 17:54:28 -0300  2019-04-01 17:54:28 -0300    171   \n",
       "3       2019-04-03 09:54:54 -0300  2019-04-03 09:54:54 -0300    171   \n",
       "4       2019-04-13 22:49:13 -0300  2019-04-13 22:49:13 -0300    171   \n",
       "...                           ...                        ...    ...   \n",
       "797694  2019-10-28 16:34:41 -0300  2019-10-28 16:34:43 -0300      1   \n",
       "797695  2019-10-28 16:50:50 -0300  2019-10-28 16:50:53 -0300      1   \n",
       "797697  2019-10-28 18:05:24 -0300  2019-10-28 18:05:54 -0300      4   \n",
       "797698  2019-10-28 19:39:18 -0300  2019-10-28 19:39:21 -0300      1   \n",
       "797700  2019-10-28 20:44:41 -0300  2019-10-28 20:44:57 -0300      2   \n",
       "\n",
       "                                                  @device MetadataEntry  \\\n",
       "0                                                     NaN           NaN   \n",
       "1                                                     NaN           NaN   \n",
       "2                                                     NaN           NaN   \n",
       "3                                                     NaN           NaN   \n",
       "4                                                     NaN           NaN   \n",
       "...                                                   ...           ...   \n",
       "797694  <<HKDevice: 0x2826eab70>, name:iPhone, manufac...           NaN   \n",
       "797695  <<HKDevice: 0x2826eac10>, name:iPhone, manufac...           NaN   \n",
       "797697  <<HKDevice: 0x2826eada0>, name:iPhone, manufac...           NaN   \n",
       "797698  <<HKDevice: 0x2826eae40>, name:iPhone, manufac...           NaN   \n",
       "797700  <<HKDevice: 0x2826eafd0>, name:iPhone, manufac...           NaN   \n",
       "\n",
       "       HeartRateVariabilityMetadataList  \n",
       "0                                   NaN  \n",
       "1                                   NaN  \n",
       "2                                   NaN  \n",
       "3                                   NaN  \n",
       "4                                   NaN  \n",
       "...                                 ...  \n",
       "797694                              NaN  \n",
       "797695                              NaN  \n",
       "797697                              NaN  \n",
       "797698                              NaN  \n",
       "797700                              NaN  \n",
       "\n",
       "[11667 rows x 11 columns]"
      ]
     },
     "execution_count": 15,
     "metadata": {},
     "output_type": "execute_result"
    }
   ],
   "source": [
    "gustavo_iphone"
   ]
  },
  {
   "cell_type": "code",
   "execution_count": 23,
   "metadata": {},
   "outputs": [],
   "source": [
    "gustavo_watch = df[df['@sourceName'] == 'Apple Watch de Gustavo']"
   ]
  },
  {
   "cell_type": "code",
   "execution_count": 22,
   "metadata": {},
   "outputs": [
    {
     "data": {
      "text/html": [
       "<div>\n",
       "<style scoped>\n",
       "    .dataframe tbody tr th:only-of-type {\n",
       "        vertical-align: middle;\n",
       "    }\n",
       "\n",
       "    .dataframe tbody tr th {\n",
       "        vertical-align: top;\n",
       "    }\n",
       "\n",
       "    .dataframe thead th {\n",
       "        text-align: right;\n",
       "    }\n",
       "</style>\n",
       "<table border=\"1\" class=\"dataframe\">\n",
       "  <thead>\n",
       "    <tr style=\"text-align: right;\">\n",
       "      <th></th>\n",
       "      <th>@type</th>\n",
       "      <th>@sourceName</th>\n",
       "      <th>@sourceVersion</th>\n",
       "      <th>@unit</th>\n",
       "      <th>@creationDate</th>\n",
       "      <th>@startDate</th>\n",
       "      <th>@endDate</th>\n",
       "      <th>@value</th>\n",
       "      <th>@device</th>\n",
       "      <th>MetadataEntry</th>\n",
       "      <th>HeartRateVariabilityMetadataList</th>\n",
       "    </tr>\n",
       "  </thead>\n",
       "  <tbody>\n",
       "  </tbody>\n",
       "</table>\n",
       "</div>"
      ],
      "text/plain": [
       "Empty DataFrame\n",
       "Columns: [@type, @sourceName, @sourceVersion, @unit, @creationDate, @startDate, @endDate, @value, @device, MetadataEntry, HeartRateVariabilityMetadataList]\n",
       "Index: []"
      ]
     },
     "execution_count": 22,
     "metadata": {},
     "output_type": "execute_result"
    }
   ],
   "source": [
    "gustavo_watch"
   ]
  },
  {
   "cell_type": "code",
   "execution_count": 31,
   "metadata": {},
   "outputs": [
    {
     "name": "stderr",
     "output_type": "stream",
     "text": [
      "/opt/anaconda3/lib/python3.7/site-packages/pandas/core/indexing.py:576: SettingWithCopyWarning: \n",
      "A value is trying to be set on a copy of a slice from a DataFrame.\n",
      "Try using .loc[row_indexer,col_indexer] = value instead\n",
      "\n",
      "See the caveats in the documentation: http://pandas.pydata.org/pandas-docs/stable/user_guide/indexing.html#returning-a-view-versus-a-copy\n",
      "  self.obj[item_labels[indexer[info_axis]]] = value\n"
     ]
    }
   ],
   "source": [
    "gustavo_iphone.loc[:, '@value'] = pd.to_numeric(\n",
    "    gustavo_iphone.loc[:, '@value'])"
   ]
  },
  {
   "cell_type": "code",
   "execution_count": 32,
   "metadata": {},
   "outputs": [
    {
     "data": {
      "text/plain": [
       "@type                                object\n",
       "@sourceName                          object\n",
       "@sourceVersion                       object\n",
       "@unit                                object\n",
       "@creationDate                        object\n",
       "@startDate                           object\n",
       "@endDate                             object\n",
       "@value                              float64\n",
       "@device                              object\n",
       "MetadataEntry                        object\n",
       "HeartRateVariabilityMetadataList     object\n",
       "dtype: object"
      ]
     },
     "execution_count": 32,
     "metadata": {},
     "output_type": "execute_result"
    }
   ],
   "source": [
    "gustavo_iphone.dtypes"
   ]
  },
  {
   "cell_type": "code",
   "execution_count": 35,
   "metadata": {},
   "outputs": [
    {
     "data": {
      "text/plain": [
       "934181.993763448"
      ]
     },
     "execution_count": 35,
     "metadata": {},
     "output_type": "execute_result"
    }
   ],
   "source": [
    "total_steps = gustavo_iphone['@value']\n",
    "total_steps.sum()\n"
   ]
  },
  {
   "cell_type": "code",
   "execution_count": 37,
   "metadata": {},
   "outputs": [
    {
     "name": "stderr",
     "output_type": "stream",
     "text": [
      "/opt/anaconda3/lib/python3.7/site-packages/ipykernel_launcher.py:3: SettingWithCopyWarning: \n",
      "A value is trying to be set on a copy of a slice from a DataFrame.\n",
      "Try using .loc[row_indexer,col_indexer] = value instead\n",
      "\n",
      "See the caveats in the documentation: http://pandas.pydata.org/pandas-docs/stable/user_guide/indexing.html#returning-a-view-versus-a-copy\n",
      "  This is separate from the ipykernel package so we can avoid doing imports until\n",
      "/opt/anaconda3/lib/python3.7/site-packages/ipykernel_launcher.py:5: SettingWithCopyWarning: \n",
      "A value is trying to be set on a copy of a slice from a DataFrame.\n",
      "Try using .loc[row_indexer,col_indexer] = value instead\n",
      "\n",
      "See the caveats in the documentation: http://pandas.pydata.org/pandas-docs/stable/user_guide/indexing.html#returning-a-view-versus-a-copy\n",
      "  \"\"\"\n",
      "/opt/anaconda3/lib/python3.7/site-packages/ipykernel_launcher.py:7: SettingWithCopyWarning: \n",
      "A value is trying to be set on a copy of a slice from a DataFrame.\n",
      "Try using .loc[row_indexer,col_indexer] = value instead\n",
      "\n",
      "See the caveats in the documentation: http://pandas.pydata.org/pandas-docs/stable/user_guide/indexing.html#returning-a-view-versus-a-copy\n",
      "  import sys\n"
     ]
    }
   ],
   "source": [
    "format = '%Y-%m-%d %H:%M:%S %z'\n",
    "gustavo_iphone['@creationDate'] = pd.to_datetime(df['@creationDate'],\n",
    "                                     format=format)\n",
    "gustavo_iphone['@startDate'] = pd.to_datetime(df['@startDate'],\n",
    "                                  format=format)\n",
    "gustavo_iphone['@endDate'] = pd.to_datetime(df['@endDate'],\n",
    "                                format=format)"
   ]
  },
  {
   "cell_type": "code",
   "execution_count": 38,
   "metadata": {},
   "outputs": [
    {
     "data": {
      "text/plain": [
       "@type                                                               object\n",
       "@sourceName                                                         object\n",
       "@sourceVersion                                                      object\n",
       "@unit                                                               object\n",
       "@creationDate                       datetime64[ns, pytz.FixedOffset(-180)]\n",
       "@startDate                          datetime64[ns, pytz.FixedOffset(-180)]\n",
       "@endDate                            datetime64[ns, pytz.FixedOffset(-180)]\n",
       "@value                                                             float64\n",
       "@device                                                             object\n",
       "MetadataEntry                                                       object\n",
       "HeartRateVariabilityMetadataList                                    object\n",
       "dtype: object"
      ]
     },
     "execution_count": 38,
     "metadata": {},
     "output_type": "execute_result"
    }
   ],
   "source": [
    "gustavo_iphone.dtypes"
   ]
  },
  {
   "cell_type": "code",
   "execution_count": 51,
   "metadata": {},
   "outputs": [],
   "source": [
    "steps_grouped = gustavo_iphone.groupby('@creationDate').sum()\n",
    "daily_steps = steps_grouped['@value'].resample('D').sum()"
   ]
  },
  {
   "cell_type": "code",
   "execution_count": 52,
   "metadata": {},
   "outputs": [
    {
     "name": "stderr",
     "output_type": "stream",
     "text": [
      "/opt/anaconda3/lib/python3.7/site-packages/pandas/core/arrays/datetimes.py:1269: UserWarning: Converting to PeriodArray/Index representation will drop timezone information.\n",
      "  UserWarning,\n"
     ]
    },
    {
     "data": {
      "text/plain": [
       "<matplotlib.axes._subplots.AxesSubplot at 0x118bfa790>"
      ]
     },
     "execution_count": 52,
     "metadata": {},
     "output_type": "execute_result"
    },
    {
     "data": {
      "image/png": "[encoded data removed]",
      "text/plain": [
       "<Figure size 432x288 with 1 Axes>"
      ]
     },
     "metadata": {
      "needs_background": "light"
     },
     "output_type": "display_data"
    }
   ],
   "source": [
    "daily_steps.plot()"
   ]
  },
  {
   "cell_type": "code",
   "execution_count": 54,
   "metadata": {},
   "outputs": [
    {
     "data": {
      "text/plain": [
       "@creationDate\n",
       "2019-06-02 00:00:00-03:00    27548.774970\n",
       "2019-05-12 00:00:00-03:00    22537.955154\n",
       "2019-06-30 00:00:00-03:00    22520.061430\n",
       "2019-05-26 00:00:00-03:00    19712.263571\n",
       "2019-09-28 00:00:00-03:00    19402.946782\n",
       "2019-10-13 00:00:00-03:00    18371.576924\n",
       "2019-05-05 00:00:00-03:00    16701.227381\n",
       "2019-10-20 00:00:00-03:00    13568.387147\n",
       "2019-09-29 00:00:00-03:00    10256.950711\n",
       "2019-05-04 00:00:00-03:00    10084.543206\n",
       "Name: @value, dtype: float64"
      ]
     },
     "execution_count": 54,
     "metadata": {},
     "output_type": "execute_result"
    }
   ],
   "source": [
    "daily_steps.sort_values(ascending=False)[:10]"
   ]
  },
  {
   "cell_type": "code",
   "execution_count": 56,
   "metadata": {},
   "outputs": [
    {
     "data": {
      "text/plain": [
       "@creationDate\n",
       "2019-10-31 00:00:00-03:00    4769.856405\n",
       "2019-05-31 00:00:00-03:00    4472.214687\n",
       "2019-06-30 00:00:00-03:00    4252.671694\n",
       "2019-09-30 00:00:00-03:00    3759.014229\n",
       "2019-04-30 00:00:00-03:00    3682.736945\n",
       "2019-07-31 00:00:00-03:00    3488.457958\n",
       "2019-03-31 00:00:00-03:00    3078.207457\n",
       "2019-08-31 00:00:00-03:00    2240.504630\n",
       "2019-02-28 00:00:00-03:00    2224.169686\n",
       "Name: @value, dtype: float64"
      ]
     },
     "execution_count": 56,
     "metadata": {},
     "output_type": "execute_result"
    }
   ],
   "source": [
    "monthly_steps = daily_steps.resample('M').mean()\n",
    "monthly_steps.sort_values(ascending=False)[:10]"
   ]
  },
  {
   "cell_type": "code",
   "execution_count": 57,
   "metadata": {},
   "outputs": [
    {
     "data": {
      "text/plain": [
       "<matplotlib.axes._subplots.AxesSubplot at 0x1192ec710>"
      ]
     },
     "execution_count": 57,
     "metadata": {},
     "output_type": "execute_result"
    },
    {
     "data": {
      "image/png": "[encoded data removed]",
      "text/plain": [
       "<Figure size 432x288 with 1 Axes>"
      ]
     },
     "metadata": {
      "needs_background": "light"
     },
     "output_type": "display_data"
    }
   ],
   "source": [
    "monthly_steps.plot()"
   ]
  },
  {
   "cell_type": "code",
   "execution_count": null,
   "metadata": {},
   "outputs": [],
   "source": []
  }
 ],
 "metadata": {
  "kernelspec": {
   "display_name": "Python 3",
   "language": "python",
   "name": "python3"
  },
  "language_info": {
   "codemirror_mode": {
    "name": "ipython",
    "version": 3
   },
   "file_extension": ".py",
   "mimetype": "text/x-python",
   "name": "python",
   "nbconvert_exporter": "python",
   "pygments_lexer": "ipython3",
   "version": "3.7.4"
  }
 },
 "nbformat": 4,
 "nbformat_minor": 2
}
